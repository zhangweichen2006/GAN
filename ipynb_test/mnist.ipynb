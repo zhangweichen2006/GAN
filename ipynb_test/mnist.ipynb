{
 "cells": [
  {
   "cell_type": "code",
   "execution_count": 1,
   "metadata": {
    "collapsed": true
   },
   "outputs": [],
   "source": [
    "import gzip, os, urllib\n",
    "import cPickle as pickle, numpy as np\n",
    "\n",
    "def initialisation(sets):\n",
    "    set_img , set_label = sets\n",
    "\n",
    "    set_img = set_img.reshape(set_img.shape[0],28,28,1).astype('float32')\n",
    "    set_label = set_label.astype('uint8')\n",
    "\n",
    "    return set_img , set_label\n",
    "\n",
    "\n",
    "def load_mnist():\n",
    "    dataset = '/home/kevinzhang/Desktop/datasets/mnist/mnist.pkl.gz'\n",
    "\n",
    "    f = gzip.open(dataset, 'rb')\n",
    "    train_set, valid_set, test_set = pickle.load(f)\n",
    "    f.close()\n",
    "\n",
    "    rval = initialisation(train_set), \\\n",
    "        initialisation(valid_set), \\\n",
    "        initialisation(test_set)\n",
    "\n",
    "    return rval"
   ]
  },
  {
   "cell_type": "code",
   "execution_count": null,
   "metadata": {
    "collapsed": true
   },
   "outputs": [],
   "source": []
  },
  {
   "cell_type": "code",
   "execution_count": null,
   "metadata": {
    "collapsed": true
   },
   "outputs": [],
   "source": []
  }
 ],
 "metadata": {
  "kernelspec": {
   "display_name": "Python 2",
   "language": "python",
   "name": "python2"
  },
  "language_info": {
   "codemirror_mode": {
    "name": "ipython",
    "version": 2
   },
   "file_extension": ".py",
   "mimetype": "text/x-python",
   "name": "python",
   "nbconvert_exporter": "python",
   "pygments_lexer": "ipython2",
   "version": "2.7.13"
  }
 },
 "nbformat": 4,
 "nbformat_minor": 2
}
